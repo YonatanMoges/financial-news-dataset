{
 "cells": [
  {
   "cell_type": "code",
   "execution_count": 1,
   "metadata": {},
   "outputs": [
    {
     "data": {
      "text/plain": [
       "<module 'correlation' from 'c:\\\\Users\\\\HP\\\\Desktop\\\\TenX\\\\financial-news-dataset\\\\scripts\\\\correlation.py'>"
      ]
     },
     "execution_count": 1,
     "metadata": {},
     "output_type": "execute_result"
    }
   ],
   "source": [
    "# Cell 1: Import libraries and custom module\n",
    "import pandas as pd\n",
    "import sys\n",
    "import os\n",
    "sys.path.insert(0, os.path.abspath(\"../scripts\"))\n",
    "import correlation as cr\n",
    "import importlib\n",
    "importlib.reload(cr)"
   ]
  },
  {
   "cell_type": "code",
   "execution_count": 2,
   "metadata": {},
   "outputs": [],
   "source": [
    "stock_symbols = ['AAPL', 'AMZN', 'GOOG', 'META', 'MSFT', 'NVDA', 'TSLA']\n",
    "stock_data = {}\n",
    "for symbol in stock_symbols:\n",
    "    stock_data[symbol] = pd.read_csv(f'../data/yfinance_data/{symbol}_historical_data.csv')\n",
    "\n",
    "news_data = pd.read_csv('../data/raw_analyst_ratings.csv')"
   ]
  },
  {
   "cell_type": "code",
   "execution_count": 3,
   "metadata": {},
   "outputs": [],
   "source": [
    "# Cell 3: Ensure the date columns are in datetime format\n",
    "for symbol in stock_symbols:\n",
    "    stock_data[symbol]['Date'] = pd.to_datetime(stock_data[symbol]['Date'], format='ISO8601').dt.tz_localize(None)\n",
    "\n",
    "news_data['date'] = pd.to_datetime(news_data['date'], format='ISO8601').dt.tz_localize(None)\n"
   ]
  },
  {
   "cell_type": "code",
   "execution_count": 4,
   "metadata": {},
   "outputs": [],
   "source": [
    "# Cell 4: Filter the stock data to match the date range of the news data\n",
    "start_date = news_data['date'].min()\n",
    "\n",
    "filtered_stock_data = {}\n",
    "for symbol in stock_symbols:\n",
    "    if stock_data[symbol]['Date'].dt.tz is not None:\n",
    "        stock_data[symbol]['Date'] = stock_data[symbol]['Date'].dt.tz_convert(None)\n",
    "    else:\n",
    "        stock_data[symbol]['Date'] = stock_data[symbol]['Date'].dt.tz_localize(None)\n",
    "\n",
    "    filtered_stock_data[symbol] = cr.filter_stock_data(stock_data[symbol], start_date)\n"
   ]
  },
  {
   "cell_type": "code",
   "execution_count": 9,
   "metadata": {},
   "outputs": [
    {
     "name": "stderr",
     "output_type": "stream",
     "text": [
      "c:\\Users\\HP\\Desktop\\TenX\\financial-news-dataset\\scripts\\correlation.py:14: SettingWithCopyWarning: \n",
      "A value is trying to be set on a copy of a slice from a DataFrame.\n",
      "Try using .loc[row_indexer,col_indexer] = value instead\n",
      "\n",
      "See the caveats in the documentation: https://pandas.pydata.org/pandas-docs/stable/user_guide/indexing.html#returning-a-view-versus-a-copy\n",
      "  stock_data['daily_return'] = stock_data['Close'].pct_change()\n"
     ]
    }
   ],
   "source": [
    "# Cell 5: Calculate daily stock returns for each stock\n",
    "stock_with_returns = {}\n",
    "for symbol in stock_symbols:\n",
    "    stock_with_returns[symbol] = cr.calculate_daily_return(filtered_stock_data[symbol])\n"
   ]
  },
  {
   "cell_type": "code",
   "execution_count": 6,
   "metadata": {},
   "outputs": [],
   "source": [
    "# Cell 6: Perform sentiment analysis on the news dataset\n",
    "news_with_sentiment = cr.analyze_news_sentiment(news_data)"
   ]
  },
  {
   "cell_type": "code",
   "execution_count": 7,
   "metadata": {},
   "outputs": [],
   "source": [
    "# Cell 7: Calculate the correlation between each stock's returns and news sentiment\n",
    "correlations = {}\n",
    "for symbol in stock_symbols:\n",
    "    correlations[symbol] = cr.calculate_correlation(stock_with_returns[symbol], news_with_sentiment)\n"
   ]
  },
  {
   "cell_type": "code",
   "execution_count": 8,
   "metadata": {},
   "outputs": [
    {
     "name": "stdout",
     "output_type": "stream",
     "text": [
      "Correlation between AAPL stock returns and news sentiment: 0.10636486235108424\n",
      "Correlation between AMZN stock returns and news sentiment: 0.042304677458744194\n",
      "Correlation between GOOG stock returns and news sentiment: 0.07333158759301969\n",
      "Correlation between META stock returns and news sentiment: 0.09394822795576822\n",
      "Correlation between MSFT stock returns and news sentiment: 0.08792859342152523\n",
      "Correlation between NVDA stock returns and news sentiment: 0.03404484640567281\n",
      "Correlation between TSLA stock returns and news sentiment: 0.060215230136827516\n"
     ]
    }
   ],
   "source": [
    "# Cell 8: Output the results\n",
    "for symbol, corr in correlations.items():\n",
    "    print(f'Correlation between {symbol} stock returns and news sentiment: {corr}')"
   ]
  }
 ],
 "metadata": {
  "language_info": {
   "name": "python"
  }
 },
 "nbformat": 4,
 "nbformat_minor": 2
}
